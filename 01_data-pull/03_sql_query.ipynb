{
 "cells": [
  {
   "cell_type": "code",
   "execution_count": 5,
   "id": "cd3832a5",
   "metadata": {},
   "outputs": [],
   "source": [
    "import sqlite3\n",
    "import pandas as pd"
   ]
  },
  {
   "cell_type": "code",
   "execution_count": 8,
   "id": "cf908e87",
   "metadata": {},
   "outputs": [],
   "source": [
    "conn = sqlite3.connect(\"../data/crypto_database.db\")"
   ]
  },
  {
   "cell_type": "code",
   "execution_count": 9,
   "id": "aa1a9d43",
   "metadata": {},
   "outputs": [],
   "source": [
    "csv_files = {\n",
    "    \"ETH\": \"..data/raw/ETH_price_data.csv\",\n",
    "    \"XRP\": \"..data/raw/XRP_price_data.csv\",\n",
    "    \"LTC\": \"..data/raw/LTC_price_data.csv\",\n",
    "    \"ADA\": \"..data/raw/ADA_price_data.csv\",\n",
    "    \"DOT\": \"..data/raw/DOT_price_data.csv\",\n",
    "    \"LINK\": \"..data/raw/LINK_price_data.csv\",\n",
    "    \"BNB\": \"..data/raw/BNB_price_data.csv\",\n",
    "    \"UNI\": \"..data/raw/UNI_price_data.csv\",\n",
    "    \"DOGE\": \"..data/raw/DOGE_price_data.csv\"\n",
    "}\n"
   ]
  },
  {
   "cell_type": "code",
   "execution_count": 11,
   "id": "f13f1ec4",
   "metadata": {},
   "outputs": [],
   "source": [
    "tickers = list(csv_files.keys())\n",
    "df_dict = dict()\n",
    "for ticker in tickers:\n",
    "    if ticker != 'BTC':\n",
    "        query = f\"\"\"\n",
    "        SELECT b.time,\n",
    "               b.open as BTC_open,\n",
    "               b.close as BTC_close,\n",
    "               b.volumeto as BTC_volume,\n",
    "               {ticker}.open as {ticker}_open,\n",
    "               {ticker}.close as {ticker}_close,\n",
    "               {ticker}.volumeto as {ticker}_volume\n",
    "        FROM BTC as b\n",
    "        INNER JOIN {ticker} as {ticker}\n",
    "        ON b.time = {ticker}.time\n",
    "        \"\"\"\n",
    "        df_dict[ticker] = pd.read_sql(query, conn)\n"
   ]
  },
  {
   "cell_type": "code",
   "execution_count": 12,
   "id": "bb8a1f41",
   "metadata": {},
   "outputs": [],
   "source": [
    "for i in range(len(list(df_dict.values()))):\n",
    "    list(df_dict.values())[i].to_csv(f'../data/merged_data/{list(csv_files.keys())[i]}')"
   ]
  },
  {
   "cell_type": "code",
   "execution_count": 13,
   "id": "a1a7975d",
   "metadata": {},
   "outputs": [],
   "source": [
    "symbols = list(csv_files.keys())\n",
    "\n",
    "# Base query with just BTC\n",
    "query = f\"\"\"\n",
    "SELECT b.time,\n",
    "       b.open as BTC_open,\n",
    "       b.close as BTC_close,\n",
    "       b.volumeto as BTC_volume\n",
    "\"\"\"\n",
    "\n",
    "# Add the columns for each table to the SELECT statement and add the necessary JOIN statements\n",
    "for symbol in symbols:\n",
    "    if symbol != 'BTC': # since we have already included BTC\n",
    "        query += f\"\"\",\n",
    "               {symbol}.open as {symbol}_open,\n",
    "               {symbol}.close as {symbol}_close,\n",
    "               {symbol}.volumeto as {symbol}_volume\"\"\"\n",
    "\n",
    "query += \"\\nFROM BTC as b\"\n",
    "\n",
    "for symbol in symbols:\n",
    "    if symbol != 'BTC': # since we have already included BTC\n",
    "        query += f\"\"\"\n",
    "        INNER JOIN {symbol} as {symbol}\n",
    "        ON b.time = {symbol}.time\"\"\"\n",
    "\n",
    "# Execute the query\n",
    "df = pd.read_sql(query, conn)"
   ]
  },
  {
   "cell_type": "code",
   "execution_count": 14,
   "id": "008a6cd9",
   "metadata": {},
   "outputs": [],
   "source": [
    "df.to_csv('../data/merged_data/all_currencies.csv',index=False)"
   ]
  }
 ],
 "metadata": {
  "kernelspec": {
   "display_name": "Python 3 (ipykernel)",
   "language": "python",
   "name": "python3"
  },
  "language_info": {
   "codemirror_mode": {
    "name": "ipython",
    "version": 3
   },
   "file_extension": ".py",
   "mimetype": "text/x-python",
   "name": "python",
   "nbconvert_exporter": "python",
   "pygments_lexer": "ipython3",
   "version": "3.10.9"
  }
 },
 "nbformat": 4,
 "nbformat_minor": 5
}
